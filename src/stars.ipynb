{
 "cells": [
  {
   "attachments": {},
   "cell_type": "markdown",
   "metadata": {},
   "source": [
    "# stars 🌠\n",
    "classifying stars in Python. \n",
    "\n",
    "## Dataset\n",
    "The dataset used is taken from [here](https://www.kaggle.com/datasets/brsdincer/star-type-classification?resource=download)\n"
   ]
  }
 ],
 "metadata": {
  "language_info": {
   "name": "python"
  },
  "orig_nbformat": 4
 },
 "nbformat": 4,
 "nbformat_minor": 2
}
